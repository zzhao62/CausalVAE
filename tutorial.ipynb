{
 "cells": [
  {
   "cell_type": "markdown",
   "metadata": {},
   "source": [
    "# CausalVAE\n",
    "A detailed tutorial on how to do Causal Inference using Variational AutoEncoder.\n",
    "\n",
    "## Learning Disentanglement Representation\n",
    "Causal inference is the process to determine the actual effect of treatment on the outcome. To achieve this, we need to estimate the relationship between different variables. This is where learning the disentanglement representation can be helpful. \n",
    "\n",
    "According to the definition by *[deep ai](https://deepai.org/machine-learning-glossary-and-terms/disentangled-representation-learning)*:\n",
    ">Disentangled representation is an unsupervised learning technique that breaks down, or disentangles, each feature into narrowly defined variables and encodes them as separate dimensions.\n",
    "\n",
    "Using disentanglement representation, we can generate samples that do not exist at the beginning. For example, if our original samples are car a facing front and car b with color red, once we learn the disentangled representation, we can use this net to generate a new car c facing front with color red.\n",
    "\n",
    "![[]](https://images.deepai.org/glossary-terms/0f4d258be4b8465e93a7cd888ba19543/disentangledrep.jpg)\n",
    "\n",
    "## Variational Autoencoder\n",
    "Variational Autoencoder is a popular method to learn disentangled representation. The model has two parts: inference nets as an encoder and generative nets as a decoder. The encoder first maps all the features into a latent space. Then we can generate new features using the decoder. In causal inference, we can use the generative nets to give us counterfactual distributions. For more details about variational autoencoder, you can refer to [*Tutorial on Variational Autoencoders*](https://arxiv.org/abs/1606.05908)\n",
    "\n",
    "![[]](https://miro.medium.com/max/1400/1*UdOybs9wOe3zW8vDAfj9VA@2x.png)\n",
    "\n",
    "## Causal Variational Autoencoder\n",
    "There are three steps to apply Variational Autoencoder to Causal Inference in pratice: \n",
    "* Determine the causal model\n",
    "* Build inference nets and generative nets based on the causal model\n",
    "* Determine the optimization goal\n",
    "* Train the model\n",
    "* Estimate the causal effects based on our nets\n",
    "\n",
    "### Determine the Causal Model\n",
    "Assume that we have the following causal model. T is the treatment. y is the outcome. And x are other features other than the treatment. It is hard to estimate the treatment effect of t on y because we have a background variable Z that influences both x, t and y.\n",
    "![[]](./source/causal_model.png)"
   ]
  },
  {
   "cell_type": "markdown",
   "metadata": {},
   "source": []
  }
 ],
 "metadata": {
  "language_info": {
   "name": "python"
  },
  "orig_nbformat": 4
 },
 "nbformat": 4,
 "nbformat_minor": 2
}
